{
  "nbformat": 4,
  "nbformat_minor": 0,
  "metadata": {
    "colab": {
      "name": "TN-classification-experiment.ipynb",
      "provenance": [],
      "collapsed_sections": [
        "3KUlYpbPwqlk",
        "650DaIwzyNl9",
        "A0kOpOEKTmA7"
      ],
      "include_colab_link": true
    },
    "kernelspec": {
      "display_name": "Python 3",
      "name": "python3"
    },
    "language_info": {
      "name": "python"
    },
    "accelerator": "GPU"
  },
  "cells": [
    {
      "cell_type": "markdown",
      "metadata": {
        "id": "view-in-github",
        "colab_type": "text"
      },
      "source": [
        "<a href=\"https://colab.research.google.com/github/Beh-noush/TT-classification/blob/main/TN_classification_experiment.ipynb\" target=\"_parent\"><img src=\"https://colab.research.google.com/assets/colab-badge.svg\" alt=\"Open In Colab\"/></a>"
      ]
    },
    {
      "cell_type": "markdown",
      "source": [
        "****We will adjust this code for the case of multi-class classification. That is, the function 'make_tensor' wont use the command 'tl.tt_to_tensor' or 'tl.cp_to_tensor' any more. "
      ],
      "metadata": {
        "id": "kXDrc8CEu3o4"
      }
    },
    {
      "cell_type": "code",
      "metadata": {
        "colab": {
          "base_uri": "https://localhost:8080/"
        },
        "id": "kHNpDC3HFpPq",
        "outputId": "9e510f12-6e3d-421b-9a1c-cb05e1f55daa"
      },
      "source": [
        "import pickle\n",
        "import string\n",
        "import torch\n",
        "import torch.nn as nn\n",
        "import torch.utils.data as data_utils\n",
        "import math\n",
        "from torch import einsum\n",
        "import torch.optim as optim\n",
        "import matplotlib.pyplot as plt\n",
        "import time\n",
        "import numpy as np\n",
        "import seaborn as sns\n",
        "torch.manual_seed(0)\n",
        "\n",
        "torch.cuda.is_available()\n",
        "\n",
        "if torch.cuda.is_available:\n",
        "  dev = 'cuda:0'\n",
        "else:\n",
        "  dev = 'CPU'\n",
        "\n",
        "device = torch.device(dev)\n",
        "\n",
        "from tqdm import tqdm\n",
        "!pip install tensorly\n",
        "import tensorly as tl\n",
        "tl.set_backend('pytorch')"
      ],
      "execution_count": 1,
      "outputs": [
        {
          "output_type": "stream",
          "name": "stdout",
          "text": [
            "Collecting tensorly\n",
            "  Downloading tensorly-0.7.0-py3-none-any.whl (198 kB)\n",
            "\u001b[?25l\r\u001b[K     |█▋                              | 10 kB 19.2 MB/s eta 0:00:01\r\u001b[K     |███▎                            | 20 kB 16.0 MB/s eta 0:00:01\r\u001b[K     |█████                           | 30 kB 7.7 MB/s eta 0:00:01\r\u001b[K     |██████▋                         | 40 kB 5.5 MB/s eta 0:00:01\r\u001b[K     |████████▎                       | 51 kB 4.6 MB/s eta 0:00:01\r\u001b[K     |██████████                      | 61 kB 5.4 MB/s eta 0:00:01\r\u001b[K     |███████████▋                    | 71 kB 5.5 MB/s eta 0:00:01\r\u001b[K     |█████████████▎                  | 81 kB 4.7 MB/s eta 0:00:01\r\u001b[K     |███████████████                 | 92 kB 5.2 MB/s eta 0:00:01\r\u001b[K     |████████████████▌               | 102 kB 4.9 MB/s eta 0:00:01\r\u001b[K     |██████████████████▏             | 112 kB 4.9 MB/s eta 0:00:01\r\u001b[K     |███████████████████▉            | 122 kB 4.9 MB/s eta 0:00:01\r\u001b[K     |█████████████████████▌          | 133 kB 4.9 MB/s eta 0:00:01\r\u001b[K     |███████████████████████▏        | 143 kB 4.9 MB/s eta 0:00:01\r\u001b[K     |████████████████████████▉       | 153 kB 4.9 MB/s eta 0:00:01\r\u001b[K     |██████████████████████████▌     | 163 kB 4.9 MB/s eta 0:00:01\r\u001b[K     |████████████████████████████▏   | 174 kB 4.9 MB/s eta 0:00:01\r\u001b[K     |█████████████████████████████▉  | 184 kB 4.9 MB/s eta 0:00:01\r\u001b[K     |███████████████████████████████▍| 194 kB 4.9 MB/s eta 0:00:01\r\u001b[K     |████████████████████████████████| 198 kB 4.9 MB/s \n",
            "\u001b[?25hRequirement already satisfied: numpy in /usr/local/lib/python3.7/dist-packages (from tensorly) (1.21.5)\n",
            "Collecting nose\n",
            "  Downloading nose-1.3.7-py3-none-any.whl (154 kB)\n",
            "\u001b[K     |████████████████████████████████| 154 kB 32.0 MB/s \n",
            "\u001b[?25hRequirement already satisfied: scipy in /usr/local/lib/python3.7/dist-packages (from tensorly) (1.4.1)\n",
            "Installing collected packages: nose, tensorly\n",
            "Successfully installed nose-1.3.7 tensorly-0.7.0\n"
          ]
        }
      ]
    },
    {
      "cell_type": "code",
      "metadata": {
        "id": "wyAwmp7eFo89"
      },
      "source": [
        "def unit(A,B):\n",
        "  return(torch.einsum('ij, ik -> ijk', A,B))"
      ],
      "execution_count": 2,
      "outputs": []
    },
    {
      "cell_type": "code",
      "metadata": {
        "id": "qbFQuIwJFyOa"
      },
      "source": [
        "def make_tensor(core_tensors, decompos):\n",
        "  \"\"\"\n",
        "  computes the tensor made up of \"core_tensors\" according to a given tensor decomposition, \"decompos\".\n",
        "  \n",
        "  Parameters\n",
        "  -------\n",
        "  core_tensors: list\n",
        "               list of cores of the corresponding tensor decomposition.\n",
        "  \n",
        "  decomposition: str\n",
        "                the name of a decomposition. Ex, CP, Tucker, TT, etc.\n",
        "  Returns\n",
        "  ------\n",
        "  tensor\n",
        "    Tensor made up of core tensors.\n",
        "  \"\"\"\n",
        "  if decompos == 'TT':\n",
        "    W = tl.tt_to_tensor(core_tensors)\n",
        "  if decompos == 'CP':\n",
        "    rank = core_tensors[0].shape[1]\n",
        "    dev = core_tensors[0].device\n",
        "    W = tl.cp_to_tensor((torch.ones(rank).to(dev),core_tensors))\n",
        "  if decompos == 'HT':\n",
        "    W = ht_to_tensor_top_buttom(core_tensors)\n",
        "  return W"
      ],
      "execution_count": 3,
      "outputs": []
    },
    {
      "cell_type": "code",
      "metadata": {
        "id": "cLsHBEXHFyFX"
      },
      "source": [
        "def inner_product(data_tensor, weight_tensor):\n",
        "  \"\"\"\n",
        "  Computes the inner products  between a batch of tensors and a weight tensor\n",
        "\n",
        "  Parameters\n",
        "  -------\n",
        "  data_tensor: torch tensor\n",
        "               batch of input tensors of size n x d_1 x ... x d_p\n",
        "  weight_tensor: torch tensor\n",
        "               tensor of order p, the weight tensor of the model.\n",
        "\n",
        "  Returns\n",
        "  ------\n",
        "  vector\n",
        "    Vector of size n containing the inner products \n",
        "  \"\"\"\n",
        "  return torch.matmul(data_tensor.reshape([data_tensor.shape[0],-1]),weight_tensor.ravel())"
      ],
      "execution_count": 4,
      "outputs": []
    },
    {
      "cell_type": "code",
      "metadata": {
        "id": "i_p-VFiqFpFr"
      },
      "source": [
        "def ht_to_tensor_top_buttom(core_tensors):\n",
        "  \"\"\"\n",
        "  computes the tensor made up of \"core_tensors\" according to binary hierarchical Tucker decomposition\".\n",
        "  \n",
        "  Parameters\n",
        "  -------\n",
        "  core_tensors: list\n",
        "               list of cores of the HT decomposition in this order: [[root], [[ Level 2], [ Level 3] , .... , [Leaves] ] ]\n",
        "  \n",
        "  Returns\n",
        "  ------\n",
        "  tensor\n",
        "    Tensor made up of core tensors.\n",
        "  \"\"\"\n",
        "  root = core_tensors[0]\n",
        "  interior_levels = core_tensors[1] #interior_levels includes all levels but the first one containing the root.\n",
        "\n",
        "  tree = root[0]\n",
        "  for cores in interior_levels: \n",
        "    num_cores = len(cores)  \n",
        " #   assert num_cores == 2**(l+1), \"!!!!\"\n",
        "    for n in range(0,num_cores,2):\n",
        "      core_1, core_2 = cores[n] , cores[n+1]\n",
        "      tree = torch.einsum('i..., ijk -> ...jk', tree, unit(core_1, core_2))\n",
        "\n",
        "  return tree"
      ],
      "execution_count": null,
      "outputs": []
    },
    {
      "cell_type": "code",
      "metadata": {
        "id": "WVXHT6V-MTwy"
      },
      "source": [
        "def check(core_tensors):\n",
        "  root = core_tensors[0]\n",
        "  interior_levels = core_tensors[1] #interior_levels includes all levels but the first one containing the root.\n",
        "  level_2 = interior_levels[0]\n",
        "  level_3 = interior_levels[1]\n",
        "  level_4 = interior_levels[2]\n",
        "  tree = root[0]\n",
        "  tree = torch.einsum('i, ijk -> jk', tree, unit(level_2[0], level_2[1]))\n",
        "  tree = torch.einsum('ij, imn, jpq -> mnpq', tree, unit(level_3[0], level_3[1]), unit(level_3[2], level_3[3]))\n",
        "  tree = torch.einsum('ijkl, imn, jpq, kst, lyz -> mnpqstyz', tree, unit(level_4[0], level_4[1]), unit(level_4[2], level_4[3]), unit(level_4[4], level_4[5]), unit(level_4[6], level_4[7]))\n",
        "\n",
        "  return tree"
      ],
      "execution_count": null,
      "outputs": []
    },
    {
      "cell_type": "code",
      "metadata": {
        "id": "DwmEArN0F9WI"
      },
      "source": [
        "class HTModel_top_buttom(nn.Module):      \n",
        "    \"\"\" \n",
        "    Class for a linear binary classifier parameterized by a (binary) HT tensor.\n",
        "    \"\"\"\n",
        "    def __init__(self, order, dimension, rank, task = 'classification' ,init='normal'): \n",
        "        \"\"\"\n",
        "        Parameters\n",
        "        ---------\n",
        "        order: int\n",
        "          order of the tensor, i.e., the number of free legs\n",
        "        dimension: int\n",
        "          Uniform dimension of the HT tensor \n",
        "        rank: int\n",
        "          Uniform rank of the the HT tensor\n",
        "        init: string\n",
        "          initialization method for the core tensors of the HT parameters\n",
        "          choices are \"uniform\" and \"normal\"\n",
        "        \"\"\"\n",
        "        super().__init__()\n",
        "        self.order, self.dim, self.bond = order , dimension, rank\n",
        "        self.num_layers = int(math.log(self.order, 2) + 1)\n",
        "\n",
        "        self.weight_root = [nn.Parameter(torch.Tensor(self.bond))]\n",
        "        self.int_layers = [None for i in range(self.num_layers-1)] #This includes all layer but the one containing the root.\n",
        "\n",
        "        self.int_layers[-1] = [nn.Parameter(torch.Tensor( self.bond, self.dim)) for i in range(self.order)] #This gives the leaves of the tree.\n",
        "\n",
        "        for i in range(1,self.num_layers-1):  #This includes all L-2 interior layers.\n",
        "          self.int_layers[i-1] = [nn.Parameter(torch.Tensor(self.bond, self.bond)) for k in range(2**i)]\n",
        "\n",
        "        self.params = nn.ParameterList( self.weight_root + [item for level in self.int_layers for item in level]) \n",
        "\n",
        "        self.nested_weights = [ self.weight_root, self.int_layers] # This variable is defined to have a nested list for doing contractions in forward function.\n",
        "\n",
        "\n",
        "        # initialize weights and biases\n",
        "        for weight in self.params:\n",
        "          if init=='normal':\n",
        "            torch.nn.init.normal_( weight, mean=0.0, std= .5)\n",
        "          elif init=='uniform':\n",
        "            torch.nn.init.uniform_(weight,-1,1)\n",
        "\n",
        "    def forward(self, x): \n",
        "        \"\"\"\n",
        "        Computes the forward pass\n",
        "\n",
        "        Parameters\n",
        "        ---------\n",
        "        self\n",
        "\n",
        "        x: Batches of n input tensors of order [order]\n",
        "            \n",
        "        Returns\n",
        "        ------\n",
        "        (for the classification task) torch tensor of shape [n,2]\n",
        "          Tensor containing the scores of each input for the two classes\n",
        "\n",
        "        (for the regression task) torch tensor of shape[n]\n",
        "          containing the predicted real value of each input data\n",
        "    \n",
        "        \"\"\"\n",
        "        ht_weight = make_tensor(self.nested_weights, 'HT')    #This line refers to the above-defined function 'ht_to_tensor_top_buttom' through the function 'make_tensor'.\n",
        "        prod = inner_product(x, ht_weight)\n",
        "        if task == 'classification':\n",
        "          return torch.stack((prod,-1*prod),0).T  # w times x + b  \n",
        "        if task == 'regression':\n",
        "          return prod#.view(-1,1)     \n",
        "\n"
      ],
      "execution_count": null,
      "outputs": []
    },
    {
      "cell_type": "code",
      "metadata": {
        "id": "7KdF39TiKXIH"
      },
      "source": [
        "my_ht = HTModel_top_buttom(8,3,2)\n",
        "a = check(my_ht.nested_weights) == ht_to_tensor_top_buttom(my_ht.nested_weights)\n",
        "False in a"
      ],
      "execution_count": null,
      "outputs": []
    },
    {
      "cell_type": "code",
      "metadata": {
        "id": "ebNZ0Vm9F9Mo"
      },
      "source": [
        "class CPModel(nn.Module):      \n",
        "    \"\"\" \n",
        "    Class for a linear binary classifier parameterized by a CP tensor \n",
        "    \"\"\"\n",
        "    def __init__(self, order, dimension, rank, task = 'classification', init='normal'): \n",
        "        \"\"\"\n",
        "        Parameters\n",
        "        ---------\n",
        "        order: int\n",
        "          Order of the CP tensor\n",
        "        dimension: int\n",
        "          Uniform dimension of the CP tensor \n",
        "        rank: int\n",
        "          Uniform rank of the the CP tensor\n",
        "        init: string\n",
        "          initialization method for the core tensors of the CP parameters\n",
        "          choices are \"uniform\" and \"normal\"\n",
        "        \"\"\"\n",
        "        super().__init__()\n",
        "        self.order, self.dim, self.bond = order, dimension, rank\n",
        "\n",
        "        self.weights = [nn.Parameter(torch.Tensor(self.dim, self.bond)) for i in range(self.order)]\n",
        "\n",
        "        self.params = nn.ParameterList(self.weights)\n",
        "\n",
        "        # initialize weights and biases\n",
        "        for weight in self.params:\n",
        "          if init=='normal':\n",
        "            torch.nn.init.normal_( weight, mean=0.0, std= .5)\n",
        "          elif init=='uniform':\n",
        "            torch.nn.init.uniform_(weight,-1,1)\n",
        "\n",
        "    def forward(self, x): \n",
        "        \"\"\"\n",
        "        Computes the forward pass\n",
        "\n",
        "        Parameters\n",
        "        ---------\n",
        "        self\n",
        "\n",
        "        x: Batches of n input tensors of order [order]\n",
        "            \n",
        "        Returns\n",
        "        ------\n",
        "        (for the classification task) torch tensor of shape [n,2]\n",
        "          Tensor containing the scores of each input for the two classes\n",
        "\n",
        "        (for the regression task) torch tensor of shape[n]\n",
        "          containing the predicted real value of each input data\n",
        "    \n",
        "        \"\"\"\n",
        "        cp_weight = make_tensor(self.weights, 'CP')\n",
        "        prod = inner_product(x, cp_weight)\n",
        "        if task == 'classification':\n",
        "          return torch.stack((prod,-1*prod),0).T  # w times x + b    \n",
        "        if task == 'regression':\n",
        "          return prod#.view(-1,1)\n",
        "\n"
      ],
      "execution_count": 5,
      "outputs": []
    },
    {
      "cell_type": "code",
      "metadata": {
        "id": "ubLR0qFCr9dZ"
      },
      "source": [
        "class TTModel(nn.Module):      \n",
        "    \"\"\" \n",
        "    Class for a linear binary classifier parameterized by a TT tensor \n",
        "    \"\"\"\n",
        "    def __init__(self, order, dimension, rank, task = 'classification', init='normal'): \n",
        "        \"\"\"\n",
        "        Parameters\n",
        "        ---------\n",
        "        order: int\n",
        "          Order of the TT tensor\n",
        "        dimension: int\n",
        "          Uniform dimension of the the TT tensor \n",
        "        rank: int\n",
        "          Uniform rank of the the TT tensor\n",
        "        init: string\n",
        "          initialization method for the core tensors of the TT parameters\n",
        "          choices are \"uniform\" and \"normal\"\n",
        "        \"\"\"\n",
        "        super().__init__()\n",
        "        self.order, self.dim, self.bond = order, dimension, rank\n",
        "\n",
        "        cores = [None for i in range(self.order)]\n",
        "        self.weights = [None for i in range(self.order)]\n",
        "        cores[0] = torch.Tensor(1,self.dim, self.bond)\n",
        "        for l in range(1,self.order-1):\n",
        "          cores[l] = torch.Tensor(self.bond, self.dim, self.bond)\n",
        "        cores[-1] = torch.Tensor(self.bond, self.dim,1)\n",
        "        for l in range(self.order):\n",
        "          self.weights[l] = nn.Parameter(cores[l])\n",
        "        self.params = nn.ParameterList(self.weights)\n",
        "\n",
        "        # initialize weights and biases\n",
        "        for weight in self.params:\n",
        "          if init=='normal':\n",
        "            torch.nn.init.normal_( weight, mean=0.0, std= .5)\n",
        "          elif init=='uniform':\n",
        "            torch.nn.init.uniform_(weight,-1,1)\n",
        "\n",
        "    def forward(self, x): \n",
        "        \"\"\"\n",
        "        Computes the forward pass\n",
        "\n",
        "        Parameters\n",
        "        ---------\n",
        "        self\n",
        "\n",
        "        x: Batches of n input tensors of order [order]\n",
        "            \n",
        "        Returns\n",
        "        ------\n",
        "        (for the classification task) torch tensor of shape [n,2]\n",
        "          Tensor containing the scores of each input for the two classes\n",
        "\n",
        "        (for the regression task) torch tensor of shape[n]\n",
        "          containing the predicted real value of each input data\n",
        "    \n",
        "        \"\"\"\n",
        "        TT_weight = make_tensor(self.weights, 'TT')\n",
        "        prod = inner_product(x, TT_weight)\n",
        "#        return torch.stack((prod,-1*prod),0).T  # w times x + b       \n",
        "\n",
        "        if task == 'classification':\n",
        "          return torch.stack((prod,-1*prod),0).T  # w times x + b    \n",
        "        if task == 'regression':\n",
        "          return prod#.view(-1,1)\n"
      ],
      "execution_count": null,
      "outputs": []
    },
    {
      "cell_type": "code",
      "source": [
        "#First, we define a function to produce the examples.\n",
        "#To make analogy with Cohen et al.'s work, we make the data tensor as a tensor product (rank-1).\n",
        "import string\n",
        "list_of_letters = list(string.ascii_letters)\n",
        "def make_inputs(size, order, dimension):\n",
        "  '''\n",
        "  provides a batch of input tensorial data\n",
        "\n",
        "  Parameters\n",
        "  -----------\n",
        "  size: int\n",
        "        the batch size\n",
        "  order: int\n",
        "         the order of each tensor in the batch\n",
        "  dimension: int\n",
        "         the dimension of the tensor along all its modes \n",
        "\n",
        "  Returns\n",
        "  -----------\n",
        "     a rank-1 tensor of shape [size, dimension, dimension , ...., dimension] (a tensor of order [1+order])\n",
        "     \n",
        "  '''\n",
        "  string_einsum_left =''\n",
        "  string_einsum_right =''\n",
        "\n",
        "  for o in range(order-1):\n",
        "    string_einsum_left += list_of_letters[o]+','\n",
        "    string_einsum_right += list_of_letters[o]\n",
        "\n",
        "  string_einsum_left += list_of_letters[order-1] \n",
        "  string_einsum_right += list_of_letters[order-1] \n",
        "\n",
        "  einsum_prod = string_einsum_left + '->' + string_einsum_right\n",
        "  list_data_tensors = []\n",
        "  for j in range(size):\n",
        "    data_vecs = [torch.randn(dimension) for i in range(order)]\n",
        "    data_tensor = torch.einsum(einsum_prod , data_vecs) #This line outputs a rank-1 tensor of order [order] by doing an einsum operation of type ('i,j,...,k -> ij...k')\n",
        "    list_data_tensors.append(data_tensor)\n",
        "  data = torch.stack(list_data_tensors) #Here, the output is a tensor of order [order + 1].\n",
        "  return data\n",
        "\n",
        "def make_labels(inputs, oracle, order,dimension,target_rank, task, init):\n",
        "  '''\n",
        "  provides a batch of labels.\n",
        "\n",
        "  Parameters:\n",
        "  ------------\n",
        "  inputs: tensor of shape [batch_size, dimension, ... ,dimension] of order [order+1]\n",
        "\n",
        "  oracle: string\n",
        "          the name of the target model which is a tensor network (either CP, or TT, or HT)\n",
        "\n",
        "  order: int\n",
        "         the order of the tensors in the variable 'inputs' which should be less than the order of 'inputs' by 1. (inputs is a batch of tensors)\n",
        " \n",
        "  dimension: int\n",
        "         the dimension of the tensors in inputs along the modes\n",
        "\n",
        "  target_rank: int\n",
        "         the rank of the oracle, which is a tensor network.\n",
        "\n",
        "  task: string\n",
        "         either classification, or regression\n",
        "\n",
        "  init: string\n",
        "        the initialization of the parameters of the oracle tensor network (either 'uniform' or 'normal')\n",
        "\n",
        "\n",
        "  Returns:\n",
        "  ------------\n",
        "      a tensor of size [batch_size] containing the labels assigned to the variable 'inputs' according to the oracle.\n",
        "  '''\n",
        "  #First, do some dimension checks, the dimensionality of inputs should match the function variables, order and dimension!\n",
        "  if len(inputs.shape) != (order + 1) or inputs.shape[1] != dimension:\n",
        "    print('Model dimension not compatible with the input size!')\n",
        "  if oracle == 'HT':\n",
        "    target_model = HTModel_top_buttom(order,dimension,target_rank,task = task,init='normal')\n",
        "  if oracle == 'CP':\n",
        "    target_model = CPModel(order,dimension,target_rank, task = task, init='normal')\n",
        "  if oracle == 'TT':\n",
        "    target_model = TTModel(order,dimension,target_rank, task = task, init='normal')\n",
        " # test_inputs = make_inputs(test_size, order, dimension)#torch.randn([test_size] + [dimension]*order)\n",
        "  if task == 'classification':\n",
        "    _,test_labels = torch.max(target_model.forward(inputs),axis=1)\n",
        "  if task == 'regression':\n",
        "    test_labels = target_model.forward(inputs).detach_() #.detach_() added to fix an error with the computational graph.\n",
        "  return test_labels\n",
        "\n",
        "# train = data_utils.TensorDataset(test_inputs, test_labels)\n",
        "\n",
        "def make_dataset(inputs, labels):\n",
        "  '''\n",
        "  provides a torch dataset\n",
        "\n",
        "  Parameters:\n",
        "  ----------\n",
        "\n",
        "  inputs: torch tensor\n",
        "       a tensor of shape [batch_size, dimension, ... ,dimension]\n",
        "\n",
        "\n",
        "  labels: torch tensor\n",
        "       a tensor of shape [batch_size]\n",
        "  Returns:\n",
        "  ------------\n",
        "  a torch dataset with inputs as features and labels as their corresponding labels.\n",
        "  '''\n",
        "  if inputs.shape[0] != labels.shape[0]:\n",
        "    print('inputs and labels of inconsistent size!')\n",
        "  return data_utils.TensorDataset(inputs,labels)"
      ],
      "metadata": {
        "id": "Eqn4T6kyvhoL"
      },
      "execution_count": 6,
      "outputs": []
    },
    {
      "cell_type": "code",
      "source": [
        "class TNlearner():\n",
        "  def __init__(self, order, dimension, oracle, target_rank, task, init, device ):\n",
        "    self.order, self.dimension, self.target_rank, self.oracle, self.task, self.init = order, dimension, target_rank,oracle,task,init\n",
        "    self.device = device\n",
        "  def data_loader(self,train_size,test_size, batch_size):\n",
        "    '''\n",
        "    makes a dataloader of a given size and batch size.\n",
        "\n",
        "    Inputs\n",
        "    --------\n",
        "    size: int\n",
        "        number of all samples\n",
        "\n",
        "    batch size: int\n",
        "        number of samples in each batch\n",
        "\n",
        "    Returns\n",
        "    --------\n",
        "        a pytorch data loader\n",
        "    '''\n",
        "    input = make_inputs(train_size+test_size, self.order, self.dimension)\n",
        "    label = make_labels(input, self.oracle , self.order, self.dimension, self.target_rank, self.task , self.init)\n",
        "    self.dataset_train = make_dataset(input[:train_size], label[:train_size])\n",
        "    self.dataset_test = make_dataset(input[:test_size], label[:test_size])\n",
        "    return (data_utils.DataLoader(self.dataset_train, batch_size, shuffle=True) , data_utils.DataLoader(self.dataset_test, batch_size, shuffle=True) )    \n",
        "\n",
        "  def make_loaders(self, sample_size, test_size, batch_size):\n",
        "    '''\n",
        "    produces two data loaders for training and test phases of learning\n",
        "\n",
        "    Inputs\n",
        "    -------\n",
        "    sample_size: int\n",
        "            number of training samples\n",
        "\n",
        "    test_size: int\n",
        "            number of test samples\n",
        "\n",
        "    batch_size: int\n",
        "           number of samples in each batch\n",
        "\n",
        "    Returns\n",
        "    ---------\n",
        "          a dictionary containing two pytorch dataloaders with the keys: 'train' and 'valid'\n",
        "\n",
        "    '''\n",
        "    self.sample_size = sample_size\n",
        "    self.test_size = test_size\n",
        "    train_loader, test_loader = self.data_loader(sample_size,test_size, batch_size)\n",
        "   #  = self.data_loader(test_size, batch_size)    \n",
        "    return {'train': train_loader, 'valid':test_loader}\n",
        "\n",
        "  def train_model(self, data_loader,  model_rank, optimizer, lr, epochs, model_name, every_n_epochs): #Delete loss_func!\n",
        "    \"\"\"\n",
        "    Trains a TT or HT or CP classifier and returns the trained model.\n",
        "\n",
        "    Parameters\n",
        "    --------\n",
        "\n",
        "    data_loader: dict of two dataloaders, with keys 'train' and 'valid'. dataloaders = {'train':train_data_loader, 'valid': valid_data_loader}\n",
        "                  \n",
        "    model_rank: int\n",
        "          the model's rank\n",
        "    optimizer:\n",
        "          pytorch optimizer \n",
        "    lr: float\n",
        "          learning rate\n",
        "    epochs: int\n",
        "          number of learning epochs\n",
        "    model_name: str\n",
        "          the name of the tensor decomposition model, Eg., CP, TT, etc\n",
        "    every_n_epochs: int\n",
        "          at what number of epochs to save results. (Remark: if we don't want the history and just want the final losses and accuracies, we put 'every_n_epochs' equal to the same value as 'epochs'.)\n",
        "    init: str\n",
        "          which initialization we take for the weights of the to-be-trained model.\n",
        "    Returns\n",
        "    ------\n",
        "      Trained model\n",
        "        \n",
        "    \"\"\"\n",
        "    #First, we make a dictionary to verify the convergence of the training:\n",
        "    train_losses = []\n",
        "    train_accs = []\n",
        "    test_losses = []\n",
        "    test_accs = []\n",
        "    epochs_history = {'losses':{'train': train_losses, 'valid':test_losses}, 'accuracies': {'train':train_accs, 'valid': test_accs} } \n",
        "    # We fix our model according to the variable 'model_name'.\n",
        "    if model_name == 'TT':\n",
        "      model = TTModel(self.order, self.dimension, model_rank, self.task, init= self.init)#.to(device) Note that before, I had forgotten to write \"task\" as an argument for TTModel, CPModel and HTModel.\n",
        "    if model_name == 'CP':\n",
        "      model = CPModel(self.order, self.dimension, model_rank, self.task, init= self.init)#.to(device)\n",
        "    if model_name == 'HT':\n",
        "      model = HTModel_top_buttom(self.order, self.dimension, model_rank, self.task, init= self.init)#.to(device)\n",
        "    # and put the model on the available device.\n",
        "    model = model.to(self.device)\n",
        "    # We fix the loss function based on the learning task.\n",
        "    if self.task == 'classification':\n",
        "      loss_func = nn.CrossEntropyLoss()\n",
        "    if self.task == 'regression':\n",
        "      loss_func = nn.MSELoss()\n",
        "    # We fix the optimizer's learning rate.\n",
        "    optimizer = optimizer(model.parameters(), lr)\n",
        "    # We determine the numer of training and test samples.\n",
        "    num_samples = {'train': self.sample_size, 'valid': self.test_size}\n",
        "\n",
        "    # and we start learning\n",
        "  #  data_loader['valid']= data_loader['train']\n",
        "\n",
        "    for e in range(1,epochs+1):  \n",
        "      for mode in ['train','valid']: \n",
        "        loss_epoch = 0\n",
        "        acc_epoch = 0     \n",
        "        if mode == 'train':\n",
        "          model.train()\n",
        "        else:\n",
        "          model.eval()\n",
        "        for data, label in data_loader[mode]:\n",
        "          data = data.to(self.device) # putting data on the device.\n",
        "          label = label.to(self.device)\n",
        "\n",
        "          optimizer.zero_grad()\n",
        "\n",
        "          # forward\n",
        "          # track history if only in train\n",
        "          with torch.set_grad_enabled(mode == 'train'):   # This command should be here, otherwise ....\n",
        "\n",
        "\n",
        "            model_output = model.forward(data)\n",
        "            loss = loss_func(model_output, label)\n",
        "            loss_epoch += loss\n",
        "\n",
        "            if self.task == 'classification':\n",
        "              pred = torch.argmax(model_output, axis = 1)\n",
        "              acc = torch.sum((pred == label).float())\n",
        "              acc_epoch += acc/num_samples[mode]\n",
        "\n",
        "            if mode == 'train':\n",
        "              loss.backward()#(retain_graph= True)\n",
        "              optimizer.step()\n",
        "              optimizer.zero_grad()\n",
        "        if e%every_n_epochs == 0:\n",
        "          epochs_history['losses'][mode].append(loss_epoch.cpu().detach().numpy())\n",
        "          if self.task == 'classification':\n",
        "            epochs_history['accuracies'][mode].append(acc_epoch.cpu().detach().numpy())\n",
        "    model_params = {'model_rank':model_rank, 'loss_func':loss_func, 'optimizer':optimizer, 'lr':lr, 'epochs':epochs, 'model_name':model_name, 'task':self.task, 'init':init}\n",
        "\n",
        "    return (model_params, epochs_history) #epoch_losses to add\n"
      ],
      "metadata": {
        "id": "70ahlqUW1VJq"
      },
      "execution_count": 7,
      "outputs": []
    },
    {
      "cell_type": "code",
      "source": [
        "task = 'regression'\n",
        "train_size=2000\n",
        "test_size =1000\n",
        "batch_size = 20\n",
        "dimension = 2\n",
        "order = 4\n",
        "target_rank = 8\n",
        "oracle ='CP'\n",
        "init = 'uniform'\n",
        "# device = 'cuda:0'\n",
        "if torch.cuda.is_available:\n",
        "  dev = 'cuda:0'\n",
        "else:\n",
        "  dev = 'CPU'\n",
        "\n",
        "device = torch.device(dev)\n",
        "\n",
        "\n",
        "#seed = 0\n",
        "TNclass= TNlearner( order, dimension, oracle, target_rank, task, init, device) #We created the class\n",
        "\n",
        "experiment_dataset = TNclass.make_loaders(train_size, test_size, batch_size)\n"
      ],
      "metadata": {
        "id": "TLJqKtoDzGxW"
      },
      "execution_count": 15,
      "outputs": []
    },
    {
      "cell_type": "code",
      "source": [
        "n_runs = 1\n",
        "\n",
        "lr = .0001\n",
        "epochs= 800\n",
        "model_name= 'CP'\n",
        "rank_list = [2,4,6,8]\n",
        "if task == 'classification':\n",
        "  results_for_different_ranks_means = np.zeros((len(rank_list), 4)) # why 4? Because for each rank, we save the final epoch's train and test losses and accuracies.\n",
        "  results_for_different_ranks_stds = np.zeros((len(rank_list), 4)) # why 4? Because for each rank, we save the final epoch's train and test losses and accuracies.\n",
        "if task == 'regression':\n",
        "  results_for_different_ranks_means = np.zeros((len(rank_list), 2)) # why 2? Because for each rank, we save the final epoch's train and test losses.\n",
        "  results_for_different_ranks_stds = np.zeros((len(rank_list), 2)) # why 2? Because for each rank, we save the final epoch's train and test losses.\n",
        "dict_all_results = {}#a dictionary to save all results.\n",
        "count = 0\n",
        "for rank in tqdm(rank_list):\n",
        "  if task == 'classification':\n",
        "    temp = np.zeros(4).reshape(1,-1)\n",
        "  if task == 'regression':\n",
        "    temp = np.zeros(2).reshape(1,-1)\n",
        "\n",
        "  for run in range(n_runs):\n",
        "    key = f'model_{model_name}_rank_{rank}_run_{run}'\n",
        "    model_parameters, epochs_history = TNclass.train_model(experiment_dataset, rank, optim.SGD, lr , epochs, model_name, every_n_epochs= 3)\n",
        "    dict_all_results[key] = epochs_history\n",
        "    if task == 'classification':\n",
        "      temp_res = np.array([epochs_history[measure][mode][-1] for measure in ['losses', 'accuracies'] for mode in ['train', 'valid']])\n",
        "    if task == 'regression':\n",
        "      temp_res = np.array([epochs_history[measure][mode][-1] for measure in ['losses'] for mode in ['train', 'valid']])\n",
        "\n",
        "    temp = np.concatenate((temp, temp_res.reshape(1,-1)))\n",
        "  _, temp = np.vsplit(temp,[1]) #temp has dimension(num_runs, 4)\n",
        "  temp_mean = np.mean(temp, axis= 0)\n",
        "  results_for_different_ranks_means[count] = temp_mean\n",
        "  temp_std = np.std(temp,axis = 0)\n",
        "  results_for_different_ranks_stds[count] = temp_std\n",
        "  count += 1\n",
        "#So, now, results_for_different_ranks_means contains the means of all final epochs losses and accuracis on its columns, with each row corresonding to one model rank.\n",
        "#We can plot the results in terms of rank, by plotting each column of the matrix."
      ],
      "metadata": {
        "id": "bVzWtobXzVEh",
        "colab": {
          "base_uri": "https://localhost:8080/"
        },
        "outputId": "2814df36-70d8-4ad2-d499-b5f144edefcb"
      },
      "execution_count": 16,
      "outputs": [
        {
          "output_type": "stream",
          "name": "stderr",
          "text": [
            "100%|██████████| 4/4 [12:28<00:00, 187.10s/it]\n"
          ]
        }
      ]
    },
    {
      "cell_type": "code",
      "source": [
        "if task == 'classification':\n",
        "  plt.figure(figsize=(20,5))\n",
        "  for i in range(1,5):\n",
        "    plt.subplot(1,4,i)\n",
        "    plt.plot(rank_list, results_for_different_ranks_means[:, i-1] )\n",
        "    plt.xlabel('rank')\n",
        "\n",
        "if task == 'regression':\n",
        "  modes = ['train', 'valid']\n",
        "  plt.figure(figsize=(10,5))\n",
        "  for i in range(1,3):\n",
        "    plt.subplot(1,2,i)\n",
        "    plt.plot(rank_list, results_for_different_ranks_means[:, i-1] )\n",
        "    plt.ylabel(f'{modes[i-1]} loss')\n",
        "    plt.xlabel('rank')\n",
        "\n"
      ],
      "metadata": {
        "id": "YNMbINi7LXBF",
        "outputId": "c70f8f0f-f2fa-46af-d5b9-16edc3f2b9b1",
        "colab": {
          "base_uri": "https://localhost:8080/",
          "height": 334
        }
      },
      "execution_count": 17,
      "outputs": [
        {
          "output_type": "display_data",
          "data": {
            "image/png": "[encoded data removed]",
            "text/plain": [
              "<Figure size 720x360 with 2 Axes>"
            ]
          },
          "metadata": {
            "needs_background": "light"
          }
        }
      ]
    },
    {
      "cell_type": "markdown",
      "source": [
        "#Check Convergence! Whay test loss increases with rank?!!"
      ],
      "metadata": {
        "id": "W5SfJ6rOdNwH"
      }
    },
    {
      "cell_type": "code",
      "source": [
        "type(dict_all_results['model_CP_rank_2_run_0'])"
      ],
      "metadata": {
        "id": "wcKQTCnsTOIi",
        "colab": {
          "base_uri": "https://localhost:8080/"
        },
        "outputId": "34c644dc-dc1b-4206-c6a2-b4f97b645018"
      },
      "execution_count": 13,
      "outputs": [
        {
          "output_type": "execute_result",
          "data": {
            "text/plain": [
              "dict"
            ]
          },
          "metadata": {},
          "execution_count": 13
        }
      ]
    },
    {
      "cell_type": "code",
      "source": [
        "dict_all_results['model_CP_rank_2_run_0'].keys()"
      ],
      "metadata": {
        "id": "6wsdFlGOTOFW",
        "colab": {
          "base_uri": "https://localhost:8080/"
        },
        "outputId": "31316f27-2f58-4c68-ff0b-332f8a259ad5"
      },
      "execution_count": 14,
      "outputs": [
        {
          "output_type": "execute_result",
          "data": {
            "text/plain": [
              "dict_keys(['losses', 'accuracies'])"
            ]
          },
          "metadata": {},
          "execution_count": 14
        }
      ]
    },
    {
      "cell_type": "code",
      "source": [
        "plt.figure(figsize = (18,18))\n",
        "\n",
        "for i, key in enumerate(dict_all_results.keys()):\n",
        "  plt.subplot(len(dict_all_results.keys()),3,i+1)\n",
        "  plt.plot(dict_all_results[key]['losses']['valid'][20:])\n",
        "  plt.title(key)"
      ],
      "metadata": {
        "id": "50VE4xWZzojB",
        "outputId": "bfd91d16-1ac9-4f9f-f495-77ad221748be",
        "colab": {
          "base_uri": "https://localhost:8080/",
          "height": 531
        }
      },
      "execution_count": 18,
      "outputs": [
        {
          "output_type": "display_data",
          "data": {
            "image/png": "[encoded data removed]",
            "text/plain": [
              "<Figure size 1296x1296 with 4 Axes>"
            ]
          },
          "metadata": {
            "needs_background": "light"
          }
        }
      ]
    },
    {
      "cell_type": "code",
      "source": [
        "dict_all_results[key]['losses']['valid']"
      ],
      "metadata": {
        "id": "sCVOHj05Ac2k"
      },
      "execution_count": null,
      "outputs": []
    },
    {
      "cell_type": "code",
      "source": [
        "plt.figure(figsize = (18,16))\n",
        "\n",
        "for i, key in enumerate(dict_all_results.keys()):\n",
        "  plt.subplot(len(dict_all_results.keys()),3,i+1)\n",
        "  plt.plot(dict_all_results[key]['losses']['train'])\n",
        "  plt.title(key)"
      ],
      "metadata": {
        "id": "Faet6TLFzP05",
        "outputId": "c27ed066-835a-43fe-a89f-4184005688f1",
        "colab": {
          "base_uri": "https://localhost:8080/",
          "height": 480
        }
      },
      "execution_count": 19,
      "outputs": [
        {
          "output_type": "display_data",
          "data": {
            "image/png": "[encoded data removed]",
            "text/plain": [
              "<Figure size 1296x1152 with 4 Axes>"
            ]
          },
          "metadata": {
            "needs_background": "light"
          }
        }
      ]
    },
    {
      "cell_type": "code",
      "source": [
        "#list of final epoch's loss for model HT\n",
        "modes = ['train', 'valid']\n",
        "loss_list_rank = {'CP': {'train' : None , 'valid': None}  , 'HT': {'train' :None  , 'valid':None } }\n",
        "for model in model_name_list:\n",
        "  for mode in modes:\n",
        "    loss_list_rank[model][mode] =  [ dict_res[model][model_rank]['losses'][mode][-1].cpu().detach().numpy() for model_rank in rank_list]\n",
        "\n",
        "plt.figure(figsize=(10,5))\n",
        "for i in range(1,3):\n",
        "  plt.subplot(1,2,i)\n",
        "  plt.plot(rank_list, loss_list_rank['HT'][modes[i-1]], label = 'HT')\n",
        "  plt.plot(rank_list, loss_list_rank['CP'][modes[i-1]], label = 'CP')\n",
        "  plt.legend()\n",
        "  plt.xlabel('model rank')\n",
        "  plt.ylabel(f'{modes[i-1]} loss')\n",
        "  plt.title(f'oracle is {oracle}')\n"
      ],
      "metadata": {
        "colab": {
          "base_uri": "https://localhost:8080/",
          "height": 349
        },
        "id": "Jn-0qvgqQXjK",
        "outputId": "496c3af0-0a6f-4d8e-dedc-877a9445eb34"
      },
      "execution_count": null,
      "outputs": [
        {
          "output_type": "display_data",
          "data": {
            "image/png": "[encoded data removed]",
            "text/plain": [
              "<Figure size 720x360 with 2 Axes>"
            ]
          },
          "metadata": {
            "needs_background": "light"
          }
        }
      ]
    }
  ]
}