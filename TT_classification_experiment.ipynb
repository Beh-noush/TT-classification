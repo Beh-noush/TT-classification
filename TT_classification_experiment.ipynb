{
  "nbformat": 4,
  "nbformat_minor": 0,
  "metadata": {
    "colab": {
      "name": "TT-classification-experiment.ipynb",
      "provenance": [],
      "collapsed_sections": [],
      "include_colab_link": true
    },
    "kernelspec": {
      "name": "python3",
      "display_name": "Python 3"
    },
    "language_info": {
      "name": "python"
    },
    "accelerator": "GPU"
  },
  "cells": [
    {
      "cell_type": "markdown",
      "metadata": {
        "id": "view-in-github",
        "colab_type": "text"
      },
      "source": [
        "<a href=\"https://colab.research.google.com/github/Beh-noush/TT-classification/blob/main/TT_classification_experiment.ipynb\" target=\"_parent\"><img src=\"https://colab.research.google.com/assets/colab-badge.svg\" alt=\"Open In Colab\"/></a>"
      ]
    },
    {
      "cell_type": "code",
      "metadata": {
        "id": "YZhlN1xA81nx",
        "colab": {
          "base_uri": "https://localhost:8080/"
        },
        "outputId": "7b8ac67d-d8d0-4201-b9c8-d26abff8eea9"
      },
      "source": [
        "import pickle\n",
        "import torch\n",
        "import torch.nn as nn\n",
        "import math\n",
        "import torch.optim as optim\n",
        "import matplotlib.pyplot as plt\n",
        "import time\n",
        "import numpy as np\n",
        "import seaborn as sns\n",
        "torch.manual_seed(0)\n",
        "\n",
        "torch.cuda.is_available()\n",
        "\n",
        "if torch.cuda.is_available:\n",
        "  dev = 'cuda:0'\n",
        "else:\n",
        "  dev = 'CPU'\n",
        "\n",
        "device = torch.device(dev)\n",
        "\n",
        "from tqdm import tqdm\n",
        "!pip install tensorly\n",
        "import tensorly as tl\n",
        "tl.set_backend('pytorch')"
      ],
      "execution_count": null,
      "outputs": [
        {
          "output_type": "stream",
          "text": [
            "Collecting tensorly\n",
            "\u001b[?25l  Downloading https://files.pythonhosted.org/packages/42/3a/bf39a426e0d13a60d8cdee42419edeaa24aed2ec82f90a820b040e7db190/tensorly-0.6.0-py3-none-any.whl (160kB)\n",
            "\r\u001b[K     |██                              | 10kB 22.1MB/s eta 0:00:01\r\u001b[K     |████                            | 20kB 29.2MB/s eta 0:00:01\r\u001b[K     |██████▏                         | 30kB 34.0MB/s eta 0:00:01\r\u001b[K     |████████▏                       | 40kB 29.1MB/s eta 0:00:01\r\u001b[K     |██████████▏                     | 51kB 30.4MB/s eta 0:00:01\r\u001b[K     |████████████▎                   | 61kB 32.4MB/s eta 0:00:01\r\u001b[K     |██████████████▎                 | 71kB 33.8MB/s eta 0:00:01\r\u001b[K     |████████████████▎               | 81kB 28.7MB/s eta 0:00:01\r\u001b[K     |██████████████████▍             | 92kB 30.2MB/s eta 0:00:01\r\u001b[K     |████████████████████▍           | 102kB 28.1MB/s eta 0:00:01\r\u001b[K     |██████████████████████▍         | 112kB 28.1MB/s eta 0:00:01\r\u001b[K     |████████████████████████▌       | 122kB 28.1MB/s eta 0:00:01\r\u001b[K     |██████████████████████████▌     | 133kB 28.1MB/s eta 0:00:01\r\u001b[K     |████████████████████████████▌   | 143kB 28.1MB/s eta 0:00:01\r\u001b[K     |██████████████████████████████▋ | 153kB 28.1MB/s eta 0:00:01\r\u001b[K     |████████████████████████████████| 163kB 28.1MB/s \n",
            "\u001b[?25hRequirement already satisfied: scipy in /usr/local/lib/python3.7/dist-packages (from tensorly) (1.4.1)\n",
            "Requirement already satisfied: numpy in /usr/local/lib/python3.7/dist-packages (from tensorly) (1.19.5)\n",
            "Collecting nose\n",
            "\u001b[?25l  Downloading https://files.pythonhosted.org/packages/15/d8/dd071918c040f50fa1cf80da16423af51ff8ce4a0f2399b7bf8de45ac3d9/nose-1.3.7-py3-none-any.whl (154kB)\n",
            "\u001b[K     |████████████████████████████████| 163kB 41.0MB/s \n",
            "\u001b[?25hInstalling collected packages: nose, tensorly\n",
            "Successfully installed nose-1.3.7 tensorly-0.6.0\n"
          ],
          "name": "stdout"
        }
      ]
    },
    {
      "cell_type": "code",
      "metadata": {
        "id": "IvtV9Lo1KrER"
      },
      "source": [
        "def inner_product(data_tensor, weight_tensor):\n",
        "  \"\"\"\n",
        "  Computes the inner products of between a batch of tensors and a TT tensor\n",
        "\n",
        "  Parameters\n",
        "  -------\n",
        "  data_tensor: torch tensor\n",
        "               batch of input tensors of size n x d_1 x ... x d_p\n",
        "  weight_tensor: list\n",
        "               list of length p containing the cores of the TT tensor\n",
        "\n",
        "  Returns\n",
        "  ------\n",
        "  vector\n",
        "    Vector of size n containing the inner products \n",
        "  \"\"\"\n",
        "  W = tl.tt_to_tensor(weight_tensor)\n",
        "  return torch.matmul(data_tensor.reshape([data_tensor.shape[0],-1]),W.ravel())"
      ],
      "execution_count": null,
      "outputs": []
    },
    {
      "cell_type": "code",
      "metadata": {
        "id": "hHFvOKDc9CNm"
      },
      "source": [
        "class TTModel(nn.Module):      \n",
        "    \"\"\" \n",
        "    Class for a linear binary classifier parameterized by a TT tensor \n",
        "    \"\"\"\n",
        "    def __init__(self, order, dimension, rank, init='normal'): \n",
        "        \"\"\"\n",
        "        Parameters\n",
        "        ---------\n",
        "        order: int\n",
        "          Order of the TT tensor\n",
        "        dimension: int\n",
        "          Uniform dimension of the the TT tensor \n",
        "        rank: int\n",
        "          Uniform rank of the the TT tensor\n",
        "        init: string\n",
        "          initialization method for the core tensors of the TT parameters\n",
        "          choices are \"uniform\" and \"normal\"\n",
        "        \"\"\"\n",
        "        super().__init__()\n",
        "        self.order, self.dim, self.bond = order, dimension, rank\n",
        "\n",
        "        cores = [None for i in range(self.order)]\n",
        "        self.weights = [None for i in range(self.order)]\n",
        "        cores[0] = torch.Tensor(1,self.dim, self.bond)\n",
        "        for l in range(1,self.order-1):\n",
        "          cores[l] = torch.Tensor(self.bond, self.dim, self.bond)\n",
        "        cores[-1] = torch.Tensor(self.bond, self.dim,1)\n",
        "        for l in range(self.order):\n",
        "          self.weights[l] = nn.Parameter(cores[l])\n",
        "        self.params = nn.ParameterList(self.weights)\n",
        "\n",
        "        # initialize weights and biases\n",
        "        for weight in self.params:\n",
        "          if init=='normal':\n",
        "            torch.nn.init.normal_( weight, mean=0.0, std= .5)\n",
        "          elif init=='uniform':\n",
        "            torch.nn.init.uniform_(weight,-1,1)\n",
        "\n",
        "    def forward(self, x): \n",
        "        \"\"\"\n",
        "        Computes the forward pass\n",
        "\n",
        "        Parameters\n",
        "        ---------\n",
        "        self\n",
        "\n",
        "        x: Batches of n input tensors of order [order]\n",
        "            \n",
        "        Returns\n",
        "        ------\n",
        "        torch tensor of shape [n,2]\n",
        "          Tensor containing the scores of each input for the two classes\n",
        "    \n",
        "        \"\"\"\n",
        "        prod = inner_product(x, self.weights)\n",
        "        return torch.stack((prod,-1*prod),0).T  # w times x + b       \n",
        "\n"
      ],
      "execution_count": null,
      "outputs": []
    },
    {
      "cell_type": "code",
      "metadata": {
        "id": "21-m1zMME2Vv"
      },
      "source": [
        "def train_TT_model(training_data, rank, loss, optimizer, lr, epochs):\n",
        "  \"\"\"\n",
        "  Trains a TT classifier and returns the trained model.\n",
        "\n",
        "  Parameters\n",
        "  --------\n",
        "  training_data: tuple of two tensors, inputs (size n x d_1 x ... x d_p) and \n",
        "                 labels (size n vector of 0s and 1s)\n",
        "  rank: int\n",
        "        the model's rank\n",
        "  loss: \n",
        "        loss function.\n",
        "  optimizer:\n",
        "        pytorch optimizer \n",
        "  lr: float\n",
        "        learning rate\n",
        "  epochs: int\n",
        "        number of learning epochs\n",
        "\n",
        "  Returns\n",
        "  ------\n",
        "  TTModel\n",
        "    Trained model\n",
        "      \n",
        "  \"\"\"\n",
        "  inputs = training_data[0]\n",
        "  labels_train = training_data[1]\n",
        "  dimension = inputs.shape[1]\n",
        "  order = len(inputs.shape) - 1\n",
        "  model = TTModel(order, dimension, rank)#.to(device)\n",
        "  optimizer = optimizer(model.parameters(), lr)\n",
        "  for e in range(epochs):           \n",
        "    result = model(inputs)#.to(device)                                    \n",
        "    #pred = torch.argmax(result, axis = 1)\n",
        "    loss_train = loss(result, labels_train)\n",
        "    loss_train.backward()\n",
        "    optimizer.step()\n",
        "    optimizer.zero_grad()\n",
        "  return model\n"
      ],
      "execution_count": null,
      "outputs": []
    },
    {
      "cell_type": "markdown",
      "metadata": {
        "id": "nkIvoLhJcdzI"
      },
      "source": [
        "# First Experiment: Different Sample Sizes "
      ]
    },
    {
      "cell_type": "code",
      "metadata": {
        "id": "2RA7HYQh9D_H",
        "colab": {
          "base_uri": "https://localhost:8080/"
        },
        "outputId": "c9482284-7b82-4060-88b0-edd6bf340bc1"
      },
      "source": [
        "dimension = 4\n",
        "order = 4\n",
        "target_rank = 8\n",
        "test_size = 4000\n",
        "n_runs = 20\n",
        "train_sample_sizes = [100,200,400,800,1400,2000,3000]  \n",
        "ranks = [2,4]\n",
        "learning_rate = 0.01\n",
        "epochs = 1000\n",
        "loss = nn.CrossEntropyLoss()\n",
        "optimizer = optim.SGD\n",
        "# generate target model and test data\n",
        "target_model = TTModel(order,dimension,target_rank,init='uniform')\n",
        "test_inputs = torch.randn([test_size] + [dimension]*order)\n",
        "test_labels = torch.argmax(target_model.forward(test_inputs),axis=1)\n",
        "\n",
        "\n",
        "\n",
        "results = []\n",
        "\n",
        "for n in tqdm(range(n_runs),position=0, leave=True):\n",
        "  result = {}\n",
        "  for rank in ranks:\n",
        "    result[rank] = []\n",
        "    for size in train_sample_sizes:\n",
        "      # generate training data\n",
        "      inputs = torch.randn([size]+[dimension]*order )\n",
        "      labels = torch.argmax(target_model.forward(inputs),axis=1)\n",
        "\n",
        "      # train the model\n",
        "      model = train_TT_model((inputs, labels), rank, loss, optimizer, lr=learning_rate, epochs=epochs)\n",
        "      test_loss = loss(model.forward(test_inputs), test_labels)\n",
        "      train_loss = loss(model.forward(inputs), labels)\n",
        "      result[rank].append((size,train_loss,test_loss))\n",
        "  results.append(result)              \n",
        "                                        "
      ],
      "execution_count": null,
      "outputs": [
        {
          "output_type": "stream",
          "text": [
            "100%|██████████| 20/20 [03:19<00:00,  9.98s/it]\n"
          ],
          "name": "stderr"
        }
      ]
    },
    {
      "cell_type": "markdown",
      "metadata": {
        "id": "tuUTAsofTcaR"
      },
      "source": [
        "### Plotting the results"
      ]
    },
    {
      "cell_type": "code",
      "metadata": {
        "colab": {
          "base_uri": "https://localhost:8080/",
          "height": 251
        },
        "id": "sSARrtw9EOBa",
        "outputId": "d883d6dc-c0a6-4f10-cf22-255c9da28c9b"
      },
      "source": [
        "log_gen_gaps = {}\n",
        "upper_bound = {}\n",
        "with sns.axes_style('darkgrid'):\n",
        "  colors = sns.color_palette('husl' , 2)\n",
        "  figure = plt.figure(figsize=(4,2.3))\n",
        "  c = 0\n",
        "  for rank in ranks:\n",
        "    log_gen_gaps[rank] = np.array([[((losses[2]-losses[1]).detach()) for losses in result[rank]] for result in results])\n",
        "    #upper_bound[rank] = np.array( [(np.sqrt(order*dimension*rank**2 *math.log(sample_size)/sample_size))  for sample_size in train_sample_sizes])\n",
        "    n_params = order*dimension*rank**2\n",
        "    upper_bound[rank] = np.array( [2*(np.sqrt( n_params*math.log(8*sample_size*order*np.e / n_params)/sample_size))  for sample_size in train_sample_sizes])\n",
        "    ys = np.mean(log_gen_gaps[rank], axis = 0) #maybe add axis=1\n",
        "    stds = np.std(log_gen_gaps[rank], axis = 0)\n",
        "    print(ys)\n",
        "    plt.xlabel('sample size')\n",
        "    plt.ylabel('generalization')\n",
        "    plt.yscale('log')\n",
        "    plt.plot(train_sample_sizes, ys, color = colors[c]  , label ='experiment')\n",
        "    plt.fill_between(train_sample_sizes, list(torch.tensor(ys) - torch.tensor(stds)) , list(torch.tensor(ys) + torch.tensor(stds)), alpha = .3, facecolor = colors[c], label='_nolegend_')\n",
        "    plt.plot(train_sample_sizes,list(torch.tensor(upper_bound[rank])), color = colors[c] , linestyle ='dashed', label='_nolegend_') # The factor 1/4 is to reduce the distance between the bound curve from the theory and the one from our experiment.\n",
        "    c+=1\n",
        "  plt.legend(\"r=2 r=4\".split())"
      ],
      "execution_count": null,
      "outputs": [
        {
          "output_type": "stream",
          "text": [
            "[0.7026426  0.1959885  0.07610572 0.03401656 0.0130482  0.00936842\n",
            " 0.00555066]\n",
            "[3.4085011  0.699389   0.2122777  0.08208586 0.03694681 0.02745454\n",
            " 0.01571509]\n"
          ],
          "name": "stdout"
        },
        {
          "output_type": "display_data",
          "data": {
            "image/png": "[encoded data removed]",
            "text/plain": [
              "<Figure size 288x165.6 with 1 Axes>"
            ]
          },
          "metadata": {
            "tags": []
          }
        }
      ]
    },
    {
      "cell_type": "markdown",
      "metadata": {
        "id": "FvW_-4OArVcS"
      },
      "source": [
        "# Second Experiment: Different Ranks  "
      ]
    },
    {
      "cell_type": "code",
      "metadata": {
        "id": "kPVhX2f4pUXW"
      },
      "source": [
        "dimension = 4\n",
        "order = 4\n",
        "target_rank = 8\n",
        "test_size = 4000\n",
        "n_runs = 20\n",
        "train_sample_sizes = [2000, 4000]\n",
        "ranks = [2, 4, 6 , 8 , 10, 12, 14]\n",
        "learning_rate = 0.01\n",
        "epochs = 1000\n",
        "loss = nn.CrossEntropyLoss()\n",
        "optimizer = optim.SGD\n",
        "\n",
        "target_model = TTModel(order,dimension,target_rank,init='uniform')\n",
        "test_inputs = torch.randn([test_size] + [dimension]*order)\n",
        "test_labels = torch.argmax(target_model.forward(test_inputs),axis=1)\n",
        "\n",
        "\n",
        "results = []\n",
        "for n in range(n_runs):\n",
        "  result = {}\n",
        "  for sample_size in train_sample_sizes:\n",
        "    result[sample_size] = []\n",
        "    for rank in ranks:\n",
        "      # generate training data\n",
        "      inputs = torch.randn([sample_size] + [dimension]*order)\n",
        "      labels = torch.argmax(target_model.forward(inputs), axis = 1)\n",
        "      # train the model\n",
        "      model = train_TT_model((inputs, labels), rank, loss, optimizer, lr=learning_rate, epochs=epochs)\n",
        "      test_loss = loss(model.forward(test_inputs), test_labels)\n",
        "      train_loss = loss(model.forward(inputs), labels)\n",
        "      result[sample_size].append((sample_size,train_loss,test_loss))\n",
        "  results.append(result)        \n",
        "\n",
        "  "
      ],
      "execution_count": null,
      "outputs": []
    },
    {
      "cell_type": "markdown",
      "metadata": {
        "id": "A0kOpOEKTmA7"
      },
      "source": [
        "### Plotting the results"
      ]
    },
    {
      "cell_type": "code",
      "metadata": {
        "id": "D1LEDNS3eSsZ",
        "colab": {
          "base_uri": "https://localhost:8080/",
          "height": 240
        },
        "outputId": "0d83366c-d702-4e0b-e44f-2451680d8020"
      },
      "source": [
        "log_gen_gaps = {}\n",
        "upper_bound = {}\n",
        "with sns.axes_style('darkgrid'):\n",
        "  colors = sns.color_palette('husl' , 2)\n",
        "  figure = plt.figure(figsize=(4,2.3))\n",
        "  c = 0\n",
        "  for sample_size in train_sample_sizes:\n",
        "    log_gen_gaps[sample_size] = np.array([[((losses[2]-losses[1]).detach()) for losses in result[sample_size]] for result in results])\n",
        "    n_params = order*dimension\n",
        "    upper_bound[sample_size] = np.array( [2*(np.sqrt( n_params*rank**2*math.log(8*sample_size*order*np.e / (n_params*rank**2))/sample_size))  for rank in ranks])\n",
        "    ys = np.mean(log_gen_gaps[sample_size], axis = 0) \n",
        "    stds = np.std(log_gen_gaps[sample_size], axis = 0)\n",
        "    print(ys)\n",
        "    plt.xlabel('rank')\n",
        "    plt.ylabel('generalization')\n",
        "    plt.yscale('log')\n",
        "    plt.plot(ranks, ys, color = colors[c]  , label ='experiment')\n",
        "    plt.fill_between(ranks, list(torch.tensor(ys) - torch.tensor(stds)) , list(torch.tensor(ys) + torch.tensor(stds)), alpha = .3, facecolor = colors[c], label='_nolegend_')\n",
        "    plt.plot(ranks,list(torch.tensor(upper_bound[sample_size])), color = colors[c] , linestyle ='dashed', label='_nolegend_') # The factor 1/4 is to reduce the distance between the bound curve from the theory and the one from our experiment.\n",
        "    c+=1\n",
        "    plt.tight_layout()\n",
        "\n",
        "  plt.legend(\"n=2000 n=4000\".split())"
      ],
      "execution_count": null,
      "outputs": [
        {
          "output_type": "stream",
          "text": [
            "[0.00640478 0.02303103 0.03646769 0.05027365 0.07151561 0.08757969\n",
            " 0.10857521]\n",
            "[0.00557374 0.01454905 0.01445679 0.02332144 0.02879337 0.03536797\n",
            " 0.03862754]\n"
          ],
          "name": "stdout"
        },
        {
          "output_type": "display_data",
          "data": {
            "image/png": "[encoded data removed]",
            "text/plain": [
              "<Figure size 288x165.6 with 1 Axes>"
            ]
          },
          "metadata": {
            "tags": []
          }
        }
      ]
    }
  ]
}